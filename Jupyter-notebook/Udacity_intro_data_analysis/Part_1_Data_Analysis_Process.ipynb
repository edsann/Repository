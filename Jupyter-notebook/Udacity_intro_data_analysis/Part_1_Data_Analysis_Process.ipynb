{
 "cells": [
  {
   "cell_type": "markdown",
   "metadata": {},
   "source": [
    "# 1 - Data acquisition"
   ]
  },
  {
   "cell_type": "markdown",
   "metadata": {},
   "source": [
    "## Description of the tables\n",
    "\n",
    "### enrollments.csv:\n",
    "It's basically a table collecting the data of all Data Analyst Nanodegree students who complete their first project (i.e. enrolling) and those who do not. \n",
    "Each student is identified by an ACCOUNT_KEY and has a current STATUS, which could be either 'current' or 'canceled' (in the second case, the property IS_CANCELED confirms).\n",
    "Each student enrolled on a JOIN_DATE and may have canceled on a CANCEL_DATE (blank if the student has not yet canceled), therefore it has been enrolled for a DAYS_TO_CANCEL days (difference between the join_date and the cancel_date, or blank if the student has not yet canceled). Each student may have an IS_UDACITY type of account.\n",
    "So, summarizing:\n",
    "- ACCOUNT_KEY: a unique identifier for the account of the student who enrolled\n",
    "- STATUS: the enrollment status of the student (at the time the data was collected), it can be 'CANCELED' or 'CURRENT'\n",
    "- JOIN_DATE: the date the student enrolled\n",
    "- CANCEL_DATE: the date the student canceled, or blank if the student has not yet canceled\n",
    "- DAYS_TO_CANCEL: the number of days between JOIN_DATE and CANCEL_DATE, or blank if the student has not yet canceled\n",
    "- IS_UDACITY: true if the account is a 'Udacity test' account, False otherwise\n",
    "- IS_CANCELED: True if the student has canceled his enrollment at the time the data was collected, False otherwise\n",
    "\n",
    "\n",
    "### daily_engagement.csv:\n",
    "This table summarizes the engagement of each student, identified by the ACCT account number. Data was collected on day UTC_DATE, therefore the rest of the content refers to this date. Specifically, at the same day, the student has visited NUM_COURSES_VISITED amount of courses, spent TOTAL_MINUTES_VISITED minutes visiting courses, completed LESSONS_COMPLETED courses and completed PROJECT_COMPLETED projects.\n",
    "Summarizing:\n",
    "- ACCT: a unique identifier for the account of the student\n",
    "- UTC_DATE: the date for which the data was collected\n",
    "- NUM_COURSES_VISITED: the total number of courses of the Data Analyst Nanodegree courses the student visited on the current day\n",
    "- TOTAL_MINUTES_VISITED: the total number of courses the student spent taking Data Analysis Nanodegree courses today\n",
    "- LESSONS_COMPLETED: total number of lessons within Data Analyst Nanodegree courses on this day\n",
    "- PROJECTS_COMPLETED: total number of Data Analyst Nanodegree projects the student completed on this day\n",
    "\n",
    "\n",
    "### project_submissions.csv:\n",
    "This table contains, for each students identified uniquely by an ACCOUNT_KEY, the state of his/her projects on the Data Analyst Nanodegree. Each student submit a project belongin to the LESSON_KEY course on the CREATION_DATE: the project is being evaluated until the COMPLETION_DATE. During the process, to the project a PROCESSING_STATE is assigned. Once the project has been evaluated, an ASSIGNED_RATING value is assigned to the project.\n",
    "\n",
    "Summarizing:\n",
    "- CREATION_DATE: the date the project was submitted\n",
    "- COMPLETION_DATE: the date the project was evaluated\n",
    "- ASSIGNED_RATING: the rating given to the project, it can be\n",
    "                      - blank: the project has not yet been evaluated\n",
    "                      - INCOMPLETE: the project did not meet the specifications required\n",
    "                      - PASSED: the project met the specifications required\n",
    "                      - DISTINCTION: the project exceeded the specifications required\n",
    "                      - UNGRADED: the submission could not be evaluated (e.g. corrupted file submitted)\n",
    "- ACCOUNT_KEY: a unique identifier for the account of the student who submitted the project\n",
    "- LESSON_KEY: a unique identifier for the project submitted\n",
    "- PROCESSING_STATE: the processing state of the project, it can be\n",
    "                      - CREATED: the project has been submitted, but not evaluated yet\n",
    "                      - EVALUATED: the project has been evaluated"
   ]
  },
  {
   "cell_type": "code",
   "execution_count": 96,
   "metadata": {},
   "outputs": [],
   "source": [
    "# Preparing the environment with the DEPENDECIES:\n",
    "import unicodecsv as ucsv # CSV file reading package\n",
    "import datetime"
   ]
  },
  {
   "cell_type": "markdown",
   "metadata": {},
   "source": [
    "## Acquire the data using CSV files"
   ]
  },
  {
   "cell_type": "markdown",
   "metadata": {},
   "source": [
    "### Method 1: the long road"
   ]
  },
  {
   "cell_type": "code",
   "execution_count": 97,
   "metadata": {},
   "outputs": [
    {
     "data": {
      "text/plain": [
       "{'account_key': '448',\n",
       " 'cancel_date': '2015-01-14',\n",
       " 'days_to_cancel': '65',\n",
       " 'is_canceled': 'True',\n",
       " 'is_udacity': 'True',\n",
       " 'join_date': '2014-11-10',\n",
       " 'status': 'canceled'}"
      ]
     },
     "execution_count": 97,
     "metadata": {},
     "output_type": "execute_result"
    }
   ],
   "source": [
    "# Import the UNICODECSV package\n",
    "import unicodecsv as ucsv\n",
    "# Create an empty list for enrollments\n",
    "enrollments = []\n",
    "# Open the content of the file and store it into a Dictionary called READER using the DICTREADER method of the UNICODECSV\n",
    "f = open('enrollments.csv','rb')\n",
    "reader = ucsv.DictReader(f)\n",
    "# Fill the enrollment list with each row of the READER dictionary\n",
    "for row in reader:\n",
    "    enrollments.append(row)\n",
    "# Close the file\n",
    "f.close()\n",
    "# Print the first record of the list\n",
    "enrollments[0]"
   ]
  },
  {
   "cell_type": "markdown",
   "metadata": {},
   "source": [
    "### Method 2: quicker functions"
   ]
  },
  {
   "cell_type": "code",
   "execution_count": 98,
   "metadata": {
    "scrolled": true
   },
   "outputs": [
    {
     "data": {
      "text/plain": [
       "{'account_key': '448',\n",
       " 'cancel_date': '2015-01-14',\n",
       " 'days_to_cancel': '65',\n",
       " 'is_canceled': 'True',\n",
       " 'is_udacity': 'True',\n",
       " 'join_date': '2014-11-10',\n",
       " 'status': 'canceled'}"
      ]
     },
     "execution_count": 98,
     "metadata": {},
     "output_type": "execute_result"
    }
   ],
   "source": [
    "# Create an empty list for enrollments\n",
    "enrollments = []\n",
    "# Open the file and automatically close it with the WITH OPEN method (everything following command included while the file is opened must be indented)\n",
    "with open('enrollments.csv','rb') as f:\n",
    "    # Read the content from the file using the DICTREADER method of the UNICODECSV package\n",
    "    reader = ucsv.DictReader(f)\n",
    "    # Convert the dictionary READER into a list using the LIST function (this also initialize the list, so you don't have to create it)\n",
    "    enrollments = list(reader)\n",
    "\n",
    "# Print the first record of the list\n",
    "enrollments[0]"
   ]
  },
  {
   "cell_type": "markdown",
   "metadata": {},
   "source": [
    "#### Writing a function to do this:"
   ]
  },
  {
   "cell_type": "code",
   "execution_count": 99,
   "metadata": {
    "collapsed": true
   },
   "outputs": [],
   "source": [
    "#######################################################\n",
    "def read_csv(filename):\n",
    "# READ_CSV(FILENAME) the function gets a filename - with its full path - as an input and returns the list of the records in the CSV file, already processed as a list of dictionaries (i.e., keys and values)\n",
    "    with open(filename,'rb') as file:\n",
    "        dict_of_csv = ucsv.DictReader(file)\n",
    "        list_of_csv = list(dict_of_csv)\n",
    "        return list_of_csv\n",
    "#######################################################"
   ]
  },
  {
   "cell_type": "markdown",
   "metadata": {},
   "source": [
    "#### Applying the function"
   ]
  },
  {
   "cell_type": "code",
   "execution_count": 100,
   "metadata": {},
   "outputs": [
    {
     "name": "stdout",
     "output_type": "stream",
     "text": [
      "{'acct': '0', 'total_minutes_visited': '11.6793745', 'projects_completed': '0.0', 'utc_date': '2015-01-09', 'lessons_completed': '0.0', 'num_courses_visited': '1.0'}\n",
      "{'completion_date': '2015-01-16', 'account_key': '256', 'processing_state': 'EVALUATED', 'assigned_rating': 'UNGRADED', 'creation_date': '2015-01-14', 'lesson_key': '3176718735'}\n"
     ]
    }
   ],
   "source": [
    "daily_engagement = read_csv('daily_engagement.csv')\n",
    "print(daily_engagement[0])\n",
    "project_submissions = read_csv('project_submissions.csv')\n",
    "print(project_submissions[0])"
   ]
  },
  {
   "cell_type": "markdown",
   "metadata": {},
   "source": [
    "# 2 - Data Cleaning: clean up the tables"
   ]
  },
  {
   "cell_type": "markdown",
   "metadata": {},
   "source": [
    "## Fixing data types\n",
    "Checking if all data, even though they're imported as strings, can be converted to the proper data type (INT, BOOL, STR, etc.)"
   ]
  },
  {
   "cell_type": "markdown",
   "metadata": {},
   "source": [
    "### Defining a few important functions"
   ]
  },
  {
   "cell_type": "code",
   "execution_count": 101,
   "metadata": {
    "collapsed": true
   },
   "outputs": [],
   "source": [
    "############################################################################\n",
    "def parse_date(date):\n",
    "    if date=='':\n",
    "        return None\n",
    "    else:\n",
    "        return datetime.datetime.strptime(date, \"%Y-%m-%d\")\n",
    "############################################################################"
   ]
  },
  {
   "cell_type": "code",
   "execution_count": 102,
   "metadata": {
    "collapsed": true
   },
   "outputs": [],
   "source": [
    "############################################################################\n",
    "def parse_int(integer):\n",
    "    # Check if the input is not empty\n",
    "    if integer=='':\n",
    "        return None\n",
    "    # Convert the string in integer using the INT method\n",
    "    else:\n",
    "        return int(integer)\n",
    "############################################################################"
   ]
  },
  {
   "cell_type": "markdown",
   "metadata": {},
   "source": [
    "### Proceeding with the actual clean-up"
   ]
  },
  {
   "cell_type": "code",
   "execution_count": 103,
   "metadata": {},
   "outputs": [],
   "source": [
    "# For each record in the ENROLLMENTS list\n",
    "for enrollment in enrollments:\n",
    "    # Use the PARSE_DATE function to convert each string-date into a datetime-date\n",
    "    enrollment['cancel_date'] = parse_date(enrollment['cancel_date'])\n",
    "    enrollment['join_date'] = parse_date(enrollment['join_date'])\n",
    "    # Use the PARSE_INT function to convert each string-int into an integer-int\n",
    "    enrollment['account_key'] = parse_int(enrollment['account_key'])\n",
    "    enrollment['days_to_cancel'] = parse_int(enrollment['days_to_cancel'])\n",
    "    # Use the normal boolean functions to convert TRUE-FALSE strings into boolean values\n",
    "    enrollment['is_canceled'] = (enrollment['is_canceled']=='True')\n",
    "    enrollment['is_udacity'] = (enrollment['is_udacity']=='True')"
   ]
  },
  {
   "cell_type": "code",
   "execution_count": 104,
   "metadata": {
    "collapsed": true
   },
   "outputs": [],
   "source": [
    "# For each record in the DAILY_ENGAGEMENT list\n",
    "for engagement in daily_engagement:\n",
    "    # From STRING to INT\n",
    "    engagement['acct'] = parse_int(engagement['acct'])\n",
    "    # From STRING to FLOAT\n",
    "    engagement['total_minutes_visited'] = float(engagement['total_minutes_visited'])\n",
    "    # From STRING to DATE\n",
    "    engagement['utc_date'] = parse_date(engagement['utc_date'])\n",
    "    # From STRING to FLOAT to INT\n",
    "    engagement['lessons_completed'] = int(float(engagement['lessons_completed']))\n",
    "    engagement['projects_completed'] = int(float(engagement['projects_completed']))\n",
    "    engagement['num_courses_visited'] = int(float(engagement['num_courses_visited']))"
   ]
  },
  {
   "cell_type": "code",
   "execution_count": 105,
   "metadata": {},
   "outputs": [
    {
     "name": "stdout",
     "output_type": "stream",
     "text": [
      "<class 'int'>\n"
     ]
    }
   ],
   "source": [
    "# Proof-checking with another print\n",
    "print(type(engagement['lessons_completed']))"
   ]
  },
  {
   "cell_type": "code",
   "execution_count": 106,
   "metadata": {
    "collapsed": true
   },
   "outputs": [],
   "source": [
    "# For each record in the PROJECT_SUBMISSIONS list\n",
    "for submission in project_submissions:\n",
    "    # From STRING to DATE\n",
    "    submission['completion_date'] = parse_date(submission['completion_date'])\n",
    "    submission['creation_date'] = parse_date(submission['creation_date'])\n",
    "    # From STRING to INT\n",
    "    submission['account_key'] = parse_int(submission['account_key'])\n",
    "    submission['lesson_key'] = parse_int(submission['lesson_key'])"
   ]
  },
  {
   "cell_type": "code",
   "execution_count": 107,
   "metadata": {},
   "outputs": [
    {
     "name": "stdout",
     "output_type": "stream",
     "text": [
      "<class 'int'>\n"
     ]
    }
   ],
   "source": [
    "# Proof-checking with another print\n",
    "print(type(submission['lesson_key']))"
   ]
  },
  {
   "cell_type": "markdown",
   "metadata": {},
   "source": [
    "## Filtering the unique content\n",
    "E.g. find the number of UNIQUE records, depending on the primary key (in this example, the account key)"
   ]
  },
  {
   "cell_type": "markdown",
   "metadata": {},
   "source": [
    "### Before investigating the data, let's fix a little thing\n",
    "Apparently, the same value in ENROLLMENTS.CSV and in PROJECT_SUBMISSIONS.CSV is called ACCOUNT_KEY, while in DAILY_ENGAGEMENT.CSV is called ACCT. Let's call it the same way!"
   ]
  },
  {
   "cell_type": "code",
   "execution_count": 108,
   "metadata": {
    "collapsed": true
   },
   "outputs": [],
   "source": [
    "############################################################################\n",
    "# Function takes the DATA set as input and replaces the given OLD_KEY with the NEW_KEY\n",
    "# DATA is a list of dictionaries, OLD_KEY and NEW_KEY are strings\n",
    "def replace_key(data,old_key,new_key):\n",
    "    for record in data:\n",
    "        # Assign the old key to the new one\n",
    "        record[new_key] = record[old_key]\n",
    "        # Cancel the old one\n",
    "        del(record[old_key])\n",
    "############################################################################"
   ]
  },
  {
   "cell_type": "code",
   "execution_count": 109,
   "metadata": {},
   "outputs": [
    {
     "name": "stdout",
     "output_type": "stream",
     "text": [
      "0\n"
     ]
    }
   ],
   "source": [
    "replace_key(daily_engagement,'acct','account_key')\n",
    "print(daily_engagement[0]['account_key'])   "
   ]
  },
  {
   "cell_type": "markdown",
   "metadata": {},
   "source": [
    "### Now let's start counting: first a useful function"
   ]
  },
  {
   "cell_type": "code",
   "execution_count": 110,
   "metadata": {
    "collapsed": true
   },
   "outputs": [],
   "source": [
    "############################################################################\n",
    "def get_uniques(data):\n",
    "    # Amount of unique values in the list (using the SET function)\n",
    "    uniques = set()\n",
    "    for record in data:\n",
    "        # This property of the sets allows us to count only unique records (because the SET itself only contains unique values)\n",
    "        uniques.add(record['account_key'])\n",
    "    return uniques\n",
    "############################################################################"
   ]
  },
  {
   "cell_type": "markdown",
   "metadata": {},
   "source": [
    "### Then..."
   ]
  },
  {
   "cell_type": "code",
   "execution_count": 111,
   "metadata": {},
   "outputs": [
    {
     "name": "stdout",
     "output_type": "stream",
     "text": [
      "1640\n",
      "1302\n"
     ]
    }
   ],
   "source": [
    "# Length of the ENROLLMENT list\n",
    "enrollment_num_rows = len(enrollments)\n",
    "print(enrollment_num_rows)\n",
    "\n",
    "# Amount of unique students in the ENROLLMENT list (long method)\n",
    "# enrollment_num_unique_students = 0\n",
    "# account_keys_list = []\n",
    "# for enrollment in enrollments:\n",
    "#     if enrollment['account_key'] not in account_keys_list:\n",
    "#         account_keys_list.append(enrollment['account_key'])\n",
    "#         enrollment_num_unique_students += 1\n",
    "\n",
    "# Faster method (using the function above)\n",
    "enrollment_unique_students = get_uniques(enrollments)\n",
    "print(len(enrollment_unique_students))"
   ]
  },
  {
   "cell_type": "code",
   "execution_count": 112,
   "metadata": {},
   "outputs": [
    {
     "name": "stdout",
     "output_type": "stream",
     "text": [
      "136240\n",
      "1237\n"
     ]
    }
   ],
   "source": [
    "# Similarly for the DAILY_ENGAGEMENT list\n",
    "engagement_num_rows = len(daily_engagement)\n",
    "print(engagement_num_rows)\n",
    "\n",
    "# Amount of the unique students in the DAILY_ENGAGEMENT list\n",
    "# engagement_num_unique_students = 0\n",
    "# acct_list = []\n",
    "# for engagement in daily_engagement:\n",
    "#     if engagement['acct'] not in acct_list:\n",
    "#         acct_list.append(engagement['acct'])\n",
    "#         engagement_num_unique_students += 1\n",
    "# print(engagement_num_unique_students)\n",
    "\n",
    "# Faster method (using the function above)\n",
    "engagement_unique_students = get_uniques(daily_engagement)\n",
    "print(len(engagement_unique_students))"
   ]
  },
  {
   "cell_type": "code",
   "execution_count": 113,
   "metadata": {},
   "outputs": [
    {
     "name": "stdout",
     "output_type": "stream",
     "text": [
      "3642\n",
      "743\n"
     ]
    }
   ],
   "source": [
    "# Similarly for the PROJECT_SUBMISSIONS list\n",
    "submission_num_rows = len(project_submissions)\n",
    "print(submission_num_rows)\n",
    "\n",
    "# Amount of the unique students in the DAILY_ENGAGEMENT list\n",
    "# submission_num_unique_students = 0\n",
    "# account_keys_list = []\n",
    "# for submission in project_submissions:\n",
    "#     if submission['account_key'] not in account_keys_list:\n",
    "#         account_keys_list.append(submission['account_key'])\n",
    "#         submission_num_unique_students += 1\n",
    "# print(submission_num_unique_students)\n",
    "\n",
    "# Faster method (using the function above)\n",
    "submission_unique_students = get_uniques(project_submissions)\n",
    "print(len(submission_unique_students))"
   ]
  },
  {
   "cell_type": "markdown",
   "metadata": {
    "collapsed": true
   },
   "source": [
    "## Data Consistency"
   ]
  },
  {
   "cell_type": "markdown",
   "metadata": {
    "collapsed": true
   },
   "source": [
    "It appears that there are more unique records in the ENROLLMENT table than in the DAILY_ENGAGEMENT table... apparently, some students never actually engaged in any courses.'"
   ]
  },
  {
   "cell_type": "code",
   "execution_count": 114,
   "metadata": {},
   "outputs": [
    {
     "name": "stdout",
     "output_type": "stream",
     "text": [
      "{'account_key': 1219, 'cancel_date': datetime.datetime(2014, 11, 12, 0, 0), 'is_canceled': True, 'days_to_cancel': 0, 'is_udacity': False, 'join_date': datetime.datetime(2014, 11, 12, 0, 0), 'status': 'canceled'}\n"
     ]
    }
   ],
   "source": [
    "# A possible way to find out the account_key in the intersection between the ENROLLMENT table and the DAILY_ENGAGEMENT table...\n",
    "# intersection_enrollment_engagement = (enrollment_unique_students) ^ (engagement_unique_students)\n",
    "\n",
    "# Otherwise, just proceeding with a FOR loop, breaking at the first record found, with its whole content:\n",
    "for enrollment in enrollments:\n",
    "    student = enrollment['account_key']\n",
    "    if student not in engagement_unique_students:\n",
    "        print(enrollment)\n",
    "        break"
   ]
  },
  {
   "cell_type": "markdown",
   "metadata": {
    "collapsed": true
   },
   "source": [
    "As you may see, the inconsistency could be explained like this: a student listed in the ENROLLMENTS table needs to be enrolled for *at least* one full day in order to be considered in the DAILY_ENGAGEMENT table."
   ]
  },
  {
   "cell_type": "markdown",
   "metadata": {},
   "source": [
    "What if we look for the students with one full day of enrollment (so 'days_to_cancel' >= 0 in the ENROLLMENTS table), but still not present in the DAILY_ENGAGEMENT table?"
   ]
  },
  {
   "cell_type": "code",
   "execution_count": 115,
   "metadata": {},
   "outputs": [],
   "source": [
    "# What we're looking for is the following: students that are enrolled but not in the DAILY_ENGAGEMENT table, \n",
    "# and at the same time they have to be students who have a JOIN_DATE and CANCEL_DATE that are different \n",
    "# (i.e. students that actually enrolled and stayed more than one day)\n",
    "records = []\n",
    "for enrollment in enrollments:\n",
    "    student = enrollment['account_key']\n",
    "    if student not in engagement_unique_students and enrollment['join_date']!=enrollment['cancel_date']:\n",
    "        records.append(enrollment)\n",
    "        #print(enrollment)"
   ]
  },
  {
   "cell_type": "markdown",
   "metadata": {
    "collapsed": true
   },
   "source": [
    "You may notice that all the students selected here have the Udacity \"test\" account (the key IS_UDACITY is true for all of them). These students are not guaranteed to be registered in the DAILY_ENGAGEMENT table.\n",
    "Therefore, let's remove the test accounts from all the tables."
   ]
  },
  {
   "cell_type": "code",
   "execution_count": 116,
   "metadata": {},
   "outputs": [],
   "source": [
    "# Create a SET of all the Udacity test accounts\n",
    "udacity_test_accounts = set()\n",
    "for enrollment in enrollments:\n",
    "    if enrollment['is_udacity']:\n",
    "        # Let's fill the UDACITY_TEST_ACCOUNTS with the account keys of all the students being Udacity students\n",
    "        udacity_test_accounts.add(enrollment['account_key'])"
   ]
  },
  {
   "cell_type": "code",
   "execution_count": 117,
   "metadata": {
    "collapsed": true
   },
   "outputs": [],
   "source": [
    "def remove_accounts(data, record_key, data_check):\n",
    "    # Create a list of non-udacity accounts\n",
    "    accounts_not_regular = []\n",
    "    for record in data:\n",
    "        if record[record_key] not in data_check:\n",
    "            accounts_not_regular.append(record)\n",
    "    return accounts_not_regular        "
   ]
  },
  {
   "cell_type": "code",
   "execution_count": 118,
   "metadata": {},
   "outputs": [
    {
     "name": "stdout",
     "output_type": "stream",
     "text": [
      "1622\n",
      "135656\n",
      "3634\n"
     ]
    }
   ],
   "source": [
    "# Applying the previous function...\n",
    "non_udacity_enrollments = remove_accounts(enrollments,'account_key',udacity_test_accounts)\n",
    "non_udacity_engagements = remove_accounts(daily_engagement,'account_key',udacity_test_accounts)\n",
    "non_udacity_submissions = remove_accounts(project_submissions,'account_key',udacity_test_accounts)\n",
    "print(len(non_udacity_enrollments))\n",
    "print(len(non_udacity_engagements))\n",
    "print(len(non_udacity_submissions))"
   ]
  },
  {
   "cell_type": "markdown",
   "metadata": {},
   "source": [
    "So, from now on we will use the new variables NON_UDACITY_ENROLLMENTS, NON_UDACITY_ENGAGEMENTS and NON_UDACITY_SUBMISSIONS to go on with the analysis."
   ]
  },
  {
   "cell_type": "markdown",
   "metadata": {},
   "source": [
    "# Refining the question"
   ]
  },
  {
   "cell_type": "code",
   "execution_count": null,
   "metadata": {
    "collapsed": true
   },
   "outputs": [],
   "source": []
  }
 ],
 "metadata": {
  "kernelspec": {
   "display_name": "Python 3",
   "language": "python",
   "name": "python3"
  },
  "language_info": {
   "codemirror_mode": {
    "name": "ipython",
    "version": 3
   },
   "file_extension": ".py",
   "mimetype": "text/x-python",
   "name": "python",
   "nbconvert_exporter": "python",
   "pygments_lexer": "ipython3",
   "version": "3.5.4"
  }
 },
 "nbformat": 4,
 "nbformat_minor": 2
}
